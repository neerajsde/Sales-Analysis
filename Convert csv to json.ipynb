{
 "cells": [
  {
   "cell_type": "code",
   "execution_count": 1,
   "id": "1170d6e3",
   "metadata": {},
   "outputs": [],
   "source": [
    "import pandas as pd\n",
    "\n",
    "def excel_to_csv(excel_file, csv_file):\n",
    "    # Load the Excel file into a pandas DataFrame\n",
    "    df = pd.read_excel(excel_file)\n",
    "    \n",
    "    # Save the DataFrame as a CSV file\n",
    "    df.to_csv(csv_file, index=False)\n",
    "\n",
    "# Example usage\n",
    "excel_file_path = r\"C:\\Users\\neera\\Downloads\\SuperStore Sales DataSet.xlsx\"  # Path to the Excel file\n",
    "csv_file_path = r\"C:\\Users\\neera\\OneDrive\\Desktop\\example.csv\"  # Path to the CSV file\n",
    "\n",
    "excel_to_csv(excel_file_path, csv_file_path)"
   ]
  },
  {
   "cell_type": "code",
   "execution_count": 3,
   "id": "c9f65efa",
   "metadata": {},
   "outputs": [],
   "source": [
    "import csv\n",
    "import json\n",
    "\n",
    "def csv_to_json(csv_file_path, json_file_path):\n",
    "    data = []\n",
    "    with open(csv_file_path, 'r', encoding='utf-8') as csv_file:\n",
    "        csv_reader = csv.DictReader(csv_file)\n",
    "        for row in csv_reader:\n",
    "            data.append(row)\n",
    "    \n",
    "    with open(json_file_path, 'w', encoding='utf-8') as json_file:\n",
    "        json.dump(data, json_file, indent=4, ensure_ascii=False)\n",
    "\n",
    "# Example usage\n",
    "csv_file_path = r'C:\\Users\\neera\\OneDrive\\Desktop\\example.csv'\n",
    "json_file_path = r'C:\\Users\\neera\\OneDrive\\Desktop\\output.json'\n",
    "csv_to_json(csv_file_path, json_file_path)"
   ]
  }
 ],
 "metadata": {
  "kernelspec": {
   "display_name": "Python 3 (ipykernel)",
   "language": "python",
   "name": "python3"
  },
  "language_info": {
   "codemirror_mode": {
    "name": "ipython",
    "version": 3
   },
   "file_extension": ".py",
   "mimetype": "text/x-python",
   "name": "python",
   "nbconvert_exporter": "python",
   "pygments_lexer": "ipython3",
   "version": "3.9.13"
  }
 },
 "nbformat": 4,
 "nbformat_minor": 5
}
